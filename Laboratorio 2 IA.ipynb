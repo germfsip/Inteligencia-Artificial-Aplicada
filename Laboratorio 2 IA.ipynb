{
  "nbformat": 4,
  "nbformat_minor": 0,
  "metadata": {
    "colab": {
      "provenance": [],
      "authorship_tag": "ABX9TyN9SYrg//lMVZVdfj+mpDdI",
      "include_colab_link": true
    },
    "kernelspec": {
      "name": "python3",
      "display_name": "Python 3"
    },
    "language_info": {
      "name": "python"
    }
  },
  "cells": [
    {
      "cell_type": "markdown",
      "metadata": {
        "id": "view-in-github",
        "colab_type": "text"
      },
      "source": [
        "<a href=\"https://colab.research.google.com/github/germfsip/Inteligencia-Artificial-Aplicada/blob/main/Laboratorio%202%20IA.ipynb\" target=\"_parent\"><img src=\"https://colab.research.google.com/assets/colab-badge.svg\" alt=\"Open In Colab\"/></a>"
      ]
    },
    {
      "cell_type": "markdown",
      "metadata": {
        "id": "cuLg3WtFiAZ_"
      },
      "source": [
        "# Inteligencia Artificial aplicada\n",
        "## Dr. Gerardo Martinez\n",
        "### Chatbot\n",
        "Primeramente importemos algunos paquetes para realizar la instalación del chatterbot"
      ]
    },
    {
      "cell_type": "code",
      "metadata": {
        "colab": {
          "base_uri": "https://localhost:8080/"
        },
        "id": "U9UaQR3MmvQW",
        "outputId": "48dbad0a-7f2c-4905-f4a6-d6cccd4ba46e"
      },
      "source": [
        "def chatbot():\n",
        "    print(\"Hola, soy tu chatbot. Escribe 'salir' para finalizar.\")\n",
        "    while True:\n",
        "        entrada_usuario = input(\"Tú: \")\n",
        "        if entrada_usuario.lower() == 'salir':\n",
        "            print(\"Chatbot: ¡Hasta luego!\")\n",
        "            break\n",
        "        else:\n",
        "            respuesta = obtener_respuesta(entrada_usuario)\n",
        "            print(f\"Chatbot: {respuesta}\")\n",
        "\n",
        "def obtener_respuesta(mensaje):\n",
        "    # Puedes agregar más respuestas según lo necesites.\n",
        "    respuestas = {\n",
        "        \"hola\": \"¡Hola! ¿Cómo estás?\",\n",
        "        \"bien\": \"Me alegra escuchar eso.\",\n",
        "        \"mal\": \"Lo siento, ¿hay algo en lo que pueda ayudar?\",\n",
        "        \"adios\": \"¡Adiós!\"\n",
        "    }\n",
        "    return respuestas.get(mensaje.lower(), \"Lo siento, no entiendo eso.\")\n",
        "\n",
        "if __name__ == \"__main__\":\n",
        "    chatbot()\n"
      ],
      "execution_count": null,
      "outputs": [
        {
          "output_type": "stream",
          "name": "stdout",
          "text": [
            "Hola, soy tu chatbot. Escribe 'salir' para finalizar.\n",
            "Tú: hola\n",
            "Chatbot: ¡Hola! ¿Cómo estás?\n",
            "Tú: bien \n",
            "Chatbot: Lo siento, no entiendo eso.\n",
            "Tú: bien\n",
            "Chatbot: Me alegra escuchar eso.\n",
            "Tú: mal\n",
            "Chatbot: Lo siento, ¿hay algo en lo que pueda ayudar?\n",
            "Tú: salir\n",
            "Chatbot: ¡Hasta luego!\n"
          ]
        }
      ]
    },
    {
      "cell_type": "markdown",
      "metadata": {
        "id": "Wi9R6U09v7_i"
      },
      "source": [
        "Muy bien, es hora de convertir nuestro Bot débil a fuerte, en algo más funcional. Lo que haremos será crear un Jarvis que pueda realizar operaciones aritméticas:"
      ]
    },
    {
      "cell_type": "code",
      "metadata": {
        "id": "4vtQp_dNoO7R"
      },
      "source": [
        "def chatbot():\n",
        "    print(\"Hola, soy tu chatbot. Escribe 'salir' para finalizar.\")\n",
        "    while True:\n",
        "        entrada_usuario = input(\"Tú: \")\n",
        "        if entrada_usuario.lower() == 'salir':\n",
        "            print(\"Chatbot: ¡Hasta luego!\")\n",
        "            break\n",
        "        else:\n",
        "            if \"suma\" in entrada_usuario or \"resta\" in entrada_usuario or \\\n",
        "               \"multiplica\" in entrada_usuario or \"divide\" in entrada_usuario:\n",
        "                respuesta = operacion_matematica(entrada_usuario)\n",
        "            else:\n",
        "                respuesta = obtener_respuesta(entrada_usuario)\n",
        "            print(f\"Chatbot: {respuesta}\")\n",
        "\n",
        "def obtener_respuesta(mensaje):\n",
        "    respuestas = {\n",
        "        \"hola\": \"¡Hola! ¿Cómo estás?\",\n",
        "        \"bien\": \"Me alegra escuchar eso.\",\n",
        "        \"mal\": \"Lo siento, ¿hay algo en lo que pueda ayudar?\",\n",
        "        \"adios\": \"¡Adiós!\"\n",
        "    }\n",
        "    return respuestas.get(mensaje.lower(), \"Lo siento, no entiendo eso.\")\n",
        "\n",
        "def operacion_matematica(mensaje):\n",
        "    palabras = mensaje.split()\n",
        "    try:\n",
        "        if \"suma\" in mensaje:\n",
        "            resultado = float(palabras[1]) + float(palabras[3])\n",
        "        elif \"resta\" in mensaje:\n",
        "            resultado = float(palabras[1]) - float(palabras[3])\n",
        "        elif \"multiplica\" in mensaje:\n",
        "            resultado = float(palabras[1]) * float(palabras[3])\n",
        "        elif \"divide\" in mensaje:\n",
        "            resultado = float(palabras[1]) / float(palabras[3])\n",
        "        return str(resultado)\n",
        "    except:\n",
        "        return \"Lo siento, no pude realizar esa operación. Por favor, verifica tu entrada.\"\n",
        "\n",
        "if __name__ == \"__main__\":\n",
        "    chatbot()\n"
      ],
      "execution_count": null,
      "outputs": []
    }
  ]
}