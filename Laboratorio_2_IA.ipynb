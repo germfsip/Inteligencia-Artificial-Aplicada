{
  "nbformat": 4,
  "nbformat_minor": 0,
  "metadata": {
    "colab": {
      "provenance": [],
      "authorship_tag": "ABX9TyNbC8cTAHpNpSDU7k0MhK4f",
      "include_colab_link": true
    },
    "kernelspec": {
      "name": "python3",
      "display_name": "Python 3"
    },
    "language_info": {
      "name": "python"
    }
  },
  "cells": [
    {
      "cell_type": "markdown",
      "metadata": {
        "id": "view-in-github",
        "colab_type": "text"
      },
      "source": [
        "<a href=\"https://colab.research.google.com/github/germfsip/Inteligencia-Artificial-Aplicada/blob/main/Laboratorio_2_IA.ipynb\" target=\"_parent\"><img src=\"https://colab.research.google.com/assets/colab-badge.svg\" alt=\"Open In Colab\"/></a>"
      ]
    },
    {
      "cell_type": "markdown",
      "metadata": {
        "id": "cuLg3WtFiAZ_"
      },
      "source": [
        "# Inteligencia Artificial aplicada\n",
        "## Dr. Gerardo Martinez\n",
        "### Chatbot\n",
        "Primeramente importemos algunos paquetes para realizar la instalación del chatterbot"
      ]
    },
    {
      "cell_type": "code",
      "metadata": {
        "colab": {
          "base_uri": "https://localhost:8080/"
        },
        "id": "U9UaQR3MmvQW",
        "outputId": "48dbad0a-7f2c-4905-f4a6-d6cccd4ba46e"
      },
      "source": [
        "def chatbot():\n",
        "    print(\"Hola, soy tu chatbot. Escribe 'salir' para finalizar.\")\n",
        "    while True:\n",
        "        entrada_usuario = input(\"Tú: \")\n",
        "        if entrada_usuario.lower() == 'salir':\n",
        "            print(\"Chatbot: ¡Hasta luego!\")\n",
        "            break\n",
        "        else:\n",
        "            respuesta = obtener_respuesta(entrada_usuario)\n",
        "            print(f\"Chatbot: {respuesta}\")\n",
        "\n",
        "def obtener_respuesta(mensaje):\n",
        "    # Puedes agregar más respuestas según lo necesites.\n",
        "    respuestas = {\n",
        "        \"hola\": \"¡Hola! ¿Cómo estás?\",\n",
        "        \"bien\": \"Me alegra escuchar eso.\",\n",
        "        \"mal\": \"Lo siento, ¿hay algo en lo que pueda ayudar?\",\n",
        "        \"adios\": \"¡Adiós!\"\n",
        "    }\n",
        "    return respuestas.get(mensaje.lower(), \"Lo siento, no entiendo eso.\")\n",
        "\n",
        "if __name__ == \"__main__\":\n",
        "    chatbot()\n"
      ],
      "execution_count": null,
      "outputs": [
        {
          "output_type": "stream",
          "name": "stdout",
          "text": [
            "Hola, soy tu chatbot. Escribe 'salir' para finalizar.\n",
            "Tú: hola\n",
            "Chatbot: ¡Hola! ¿Cómo estás?\n",
            "Tú: bien \n",
            "Chatbot: Lo siento, no entiendo eso.\n",
            "Tú: bien\n",
            "Chatbot: Me alegra escuchar eso.\n",
            "Tú: mal\n",
            "Chatbot: Lo siento, ¿hay algo en lo que pueda ayudar?\n",
            "Tú: salir\n",
            "Chatbot: ¡Hasta luego!\n"
          ]
        }
      ]
    },
    {
      "cell_type": "markdown",
      "metadata": {
        "id": "Wi9R6U09v7_i"
      },
      "source": [
        "Muy bien, es hora de convertir nuestro Bot débil a fuerte, en algo más funcional. Lo que haremos será crear un Jarvis que pueda realizar operaciones aritméticas y que nos pueda dar la hora:"
      ]
    },
    {
      "cell_type": "code",
      "metadata": {
        "id": "4vtQp_dNoO7R"
      },
      "source": [
        "from chatterbot import ChatBot\n",
        "\n",
        "# Creamos a jarvis y definimos sus caracteristicas\n",
        "bot = ChatBot(\n",
        "    \"jarvis\",\n",
        "    logic_adapters=[ # Importamos los adaptadores\n",
        "        \"chatterbot.logic.MathematicalEvaluation\",\n",
        "        \"chatterbot.logic.TimeLogicAdapter\"\n",
        "    ],\n",
        "    input_adapter=\"chatterbot.input.VariableInputTypeAdapter\",\n",
        "    output_adapter=\"chatterbot.output.OutputAdapter\"\n",
        ")\n",
        "\n",
        "# Le preguntamos a Jarvis cuanto es 30 * 4\n",
        "response = bot.get_response(\"What is 30 * 4?\")\n",
        "print(response) # mostramos la respuesta de Jarvis\n",
        "\n",
        "# Le preguntamos a jarvis ¿que hora es?\n",
        "response = bot.get_response(\"What time is it?\")\n",
        "print(response) # Mostramos la respuesta de jarvis"
      ],
      "execution_count": null,
      "outputs": []
    },
    {
      "cell_type": "markdown",
      "metadata": {
        "id": "1j0pY36Hk3rt"
      },
      "source": [
        "Si quieres más información puedes visitar\n"
      ]
    },
    {
      "cell_type": "markdown",
      "metadata": {
        "id": "4JltvUoKk-Kn"
      },
      "source": [
        "https://chatterbot.readthedocs.io/en/stable/index.html"
      ]
    }
  ]
}