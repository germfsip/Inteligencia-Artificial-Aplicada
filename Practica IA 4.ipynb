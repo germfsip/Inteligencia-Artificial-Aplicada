{
  "nbformat": 4,
  "nbformat_minor": 0,
  "metadata": {
    "colab": {
      "provenance": [],
      "include_colab_link": true
    },
    "kernelspec": {
      "name": "python3",
      "display_name": "Python 3"
    }
  },
  "cells": [
    {
      "cell_type": "markdown",
      "metadata": {
        "id": "view-in-github",
        "colab_type": "text"
      },
      "source": [
        "<a href=\"https://colab.research.google.com/github/germfsip/Inteligencia-Artificial-Aplicada/blob/main/Practica%20IA%204.ipynb\" target=\"_parent\"><img src=\"https://colab.research.google.com/assets/colab-badge.svg\" alt=\"Open In Colab\"/></a>"
      ]
    },
    {
      "cell_type": "markdown",
      "metadata": {
        "id": "CG-vPWYvpqgn"
      },
      "source": [
        "#Inteligencia Artificial Aplicada\n",
        "##Dr. Gerardo Martinez\n",
        "Regresión no lineal y autoregresión"
      ]
    },
    {
      "cell_type": "markdown",
      "metadata": {
        "id": "3KYTflvAqBwq"
      },
      "source": [
        "## Regresión no lineal"
      ]
    },
    {
      "cell_type": "code",
      "metadata": {
        "id": "X7_DYmsRpl_x"
      },
      "source": [
        "import numpy as np\n",
        "import numpy.random as rnd\n",
        "import matplotlib.pyplot as plt\n",
        "from sklearn.model_selection import train_test_split\n",
        "\n",
        "np.random.seed(42)\n",
        "m = 300\n",
        "r = 0.5\n",
        "ruido = r* np.random.randn(m, 1)\n",
        "x = 6 * np.random.rand(m, 1) - 3\n",
        "y = 0.5 * x**2 + x + 2 + ruido\n",
        "\n",
        "\n",
        "xtrain, xtest, ytrain, ytest = train_test_split(x,y)\n",
        "\n",
        "#Dibujar datos\n",
        "plt.plot(xtrain, ytrain, \"b.\")\n",
        "plt.plot(xtest, ytest, \"r.\")\n",
        "plt.xlabel(\"$x$\", fontsize=18)\n",
        "plt.ylabel(\"$y$\", fontsize=18)\n",
        "plt.title('Regresión')\n",
        "plt.axis([-3, 3, 0, 10])\n",
        "plt.show()"
      ],
      "execution_count": null,
      "outputs": []
    },
    {
      "cell_type": "markdown",
      "metadata": {
        "id": "ksEc9lD1riHz"
      },
      "source": [
        "K vecinos más cercanos"
      ]
    },
    {
      "cell_type": "code",
      "metadata": {
        "id": "SwqQz_inrhzz"
      },
      "source": [
        "from sklearn.neighbors import KNeighborsRegressor\n",
        "model = KNeighborsRegressor(n_neighbors=5, weights = 'uniform')\n",
        "model.fit(xtrain, ytrain)\n",
        "\n",
        "print('Train: ', model.score(xtrain, ytrain))\n",
        "print('Test: ', model.score(xtest, ytest))\n",
        "\n",
        "x_new = np.linspace(-3, 3, 600).reshape(-1, 1)\n",
        "y_pred = model.predict(x_new)\n",
        "plt.plot(x_new, y_pred,'k-', linewidth=3)\n",
        "\n",
        "#Dibujar datos\n",
        "plt.plot(xtrain, ytrain, \"b.\")\n",
        "plt.plot(xtest, ytest, \"r.\")\n",
        "plt.xlabel(\"$x$\", fontsize=18)\n",
        "plt.ylabel(\"$y$\", fontsize=18)\n",
        "plt.title('Regresión')\n",
        "plt.axis([-3, 3, 0, 10])\n",
        "plt.show()"
      ],
      "execution_count": null,
      "outputs": []
    },
    {
      "cell_type": "markdown",
      "metadata": {
        "id": "u95RJ01YqxCM"
      },
      "source": [
        "Arboles de Desición\n"
      ]
    },
    {
      "cell_type": "code",
      "metadata": {
        "id": "EB0qQoP2q0zR"
      },
      "source": [
        "from sklearn.tree import DecisionTreeRegressor\n",
        "\n",
        "model = DecisionTreeRegressor(max_depth=100)\n",
        "model.fit(xtrain, ytrain)\n",
        "\n",
        "print('Train: ', model.score(xtrain, ytrain))\n",
        "print('Test: ', model.score(xtest, ytest))\n",
        "\n",
        "x_new = np.linspace(-3, 3, 600).reshape(-1, 1)\n",
        "y_pred = model.predict(x_new)\n",
        "plt.plot(x_new, y_pred,'k-', linewidth=3)\n",
        "\n",
        "#Dibujar datos\n",
        "plt.plot(xtrain, ytrain, \"b.\")\n",
        "plt.plot(xtest, ytest, \"r.\")\n",
        "plt.xlabel(\"$x$\", fontsize=18)\n",
        "plt.ylabel(\"$y$\", fontsize=18)\n",
        "plt.title('Regresión')\n",
        "plt.axis([-3, 3, 0, 10])\n",
        "plt.show()"
      ],
      "execution_count": null,
      "outputs": []
    },
    {
      "cell_type": "markdown",
      "metadata": {
        "id": "HeRNqiGKvvCk"
      },
      "source": [
        "Máquina de Soporte Vectorial"
      ]
    },
    {
      "cell_type": "code",
      "metadata": {
        "id": "sv3zSvmqvz6z"
      },
      "source": [
        "from sklearn.svm import SVR\n",
        "\n",
        "model = SVR(gamma='scale', C=10, epsilon=0.1, kernel='rbf')\n",
        "model.fit(xtrain, ytrain.ravel())\n",
        "\n",
        "print('Train: ', model.score(xtrain, ytrain.ravel()))\n",
        "print('Test: ', model.score(xtest, ytest.ravel()))\n",
        "\n",
        "x_new = np.linspace(-3, 3, 600).reshape(-1, 1)\n",
        "y_pred = model.predict(x_new)\n",
        "plt.plot(x_new, y_pred,'k-', linewidth=3)\n",
        "\n",
        "#Dibujar datos\n",
        "plt.plot(xtrain, ytrain, \"b.\")\n",
        "plt.plot(xtest, ytest, \"r.\")\n",
        "plt.xlabel(\"$x$\", fontsize=18)\n",
        "plt.ylabel(\"$y$\", fontsize=18)\n",
        "plt.title('Regresión')\n",
        "plt.axis([-3, 3, 0, 10])\n",
        "plt.show()"
      ],
      "execution_count": null,
      "outputs": []
    },
    {
      "cell_type": "markdown",
      "metadata": {
        "id": "x8be7JX1wNu_"
      },
      "source": [
        "Kernel Ridge"
      ]
    },
    {
      "cell_type": "code",
      "metadata": {
        "id": "l7kNovAhwP4-"
      },
      "source": [
        "from sklearn.kernel_ridge import KernelRidge\n",
        "\n",
        "model = KernelRidge(alpha=0.1, kernel= 'rbf')\n",
        "model.fit(xtrain, ytrain.ravel())\n",
        "\n",
        "print('Train: ', model.score(xtrain, ytrain.ravel()))\n",
        "print('Test: ', model.score(xtest, ytest.ravel()))\n",
        "\n",
        "x_new = np.linspace(-3, 3, 600).reshape(-1, 1)\n",
        "y_pred = model.predict(x_new)\n",
        "plt.plot(x_new, y_pred,'k-', linewidth=3)\n",
        "\n",
        "#Dibujar datos\n",
        "plt.plot(xtrain, ytrain, \"b.\")\n",
        "plt.plot(xtest, ytest, \"r.\")\n",
        "plt.xlabel(\"$x$\", fontsize=18)\n",
        "plt.ylabel(\"$y$\", fontsize=18)\n",
        "plt.title('Regresión')\n",
        "plt.axis([-3, 3, 0, 10])\n",
        "plt.show()"
      ],
      "execution_count": null,
      "outputs": []
    },
    {
      "cell_type": "markdown",
      "metadata": {
        "id": "atidzfBPw19q"
      },
      "source": [
        "Proceso Gaussiano"
      ]
    },
    {
      "cell_type": "code",
      "metadata": {
        "id": "i7lD7I_aw8EF"
      },
      "source": [
        "from sklearn.gaussian_process import GaussianProcessRegressor\n",
        "from sklearn.gaussian_process.kernels import WhiteKernel, ExpSineSquared\n",
        "\n",
        "gp_kernel = ExpSineSquared(1.0, 5.0, periodicity_bounds=(1e-2, 1e1)) \\\n",
        "            + WhiteKernel(1e-1)\n",
        "model = GaussianProcessRegressor(kernel=gp_kernel)\n",
        "\n",
        "model.fit(xtrain,ytrain)\n",
        "\n",
        "\n",
        "print('Train: ', model.score(xtrain, ytrain.ravel()))\n",
        "print('Test: ', model.score(xtest, ytest.ravel()))\n",
        "\n",
        "x_new = np.linspace(-3, 3, 600).reshape(-1, 1)\n",
        "y_pred, y_std = model.predict(x_new, return_std=True)\n",
        "plt.plot(x_new, y_pred,'k-', linewidth=3)\n",
        "plt.fill_between(x_new.ravel(), y_pred.ravel() - y_std.ravel(),\n",
        "                 y_pred.ravel() + y_std.ravel(), color='darkorange',\n",
        "                 alpha=0.5)\n",
        "\n",
        "#Dibujar datos\n",
        "plt.plot(xtrain, ytrain, \"b.\")\n",
        "plt.plot(xtest, ytest, \"r.\")\n",
        "plt.xlabel(\"$x$\", fontsize=18)\n",
        "plt.ylabel(\"$y$\", fontsize=18)\n",
        "plt.title('Regresión')\n",
        "plt.axis([-3, 3, 0, 10])\n",
        "plt.show()"
      ],
      "execution_count": null,
      "outputs": []
    },
    {
      "cell_type": "markdown",
      "metadata": {
        "id": "m8-7fPfxzeFS"
      },
      "source": [
        "Perceptrón Multicapa"
      ]
    },
    {
      "cell_type": "code",
      "metadata": {
        "id": "8I1hzox9ziPV"
      },
      "source": [
        "from sklearn.neural_network import MLPRegressor\n",
        "\n",
        "model = MLPRegressor()\n",
        "model.fit(xtrain,ytrain)\n",
        "\n",
        "\n",
        "print('Train: ', model.score(xtrain, ytrain.ravel()))\n",
        "print('Test: ', model.score(xtest, ytest.ravel()))\n",
        "\n",
        "x_new = np.linspace(-3, 3, 600).reshape(-1, 1)\n",
        "y_pred = model.predict(x_new)\n",
        "plt.plot(x_new, y_pred,'k-', linewidth=3)\n",
        "\n",
        "\n",
        "#Dibujar datos\n",
        "plt.plot(xtrain, ytrain, \"b.\")\n",
        "plt.plot(xtest, ytest, \"r.\")\n",
        "plt.xlabel(\"$x$\", fontsize=18)\n",
        "plt.ylabel(\"$y$\", fontsize=18)\n",
        "plt.title('Regresión')\n",
        "plt.axis([-3, 3, 0, 10])\n",
        "plt.show()"
      ],
      "execution_count": null,
      "outputs": []
    },
    {
      "cell_type": "markdown",
      "metadata": {
        "id": "q2wMwiWP1_UL"
      },
      "source": [
        "## Autoregresión"
      ]
    },
    {
      "cell_type": "markdown",
      "metadata": {
        "id": "RSs4nf3J2IYw"
      },
      "source": [
        "Primeramente vamos a leer unos datos"
      ]
    },
    {
      "cell_type": "code",
      "metadata": {
        "id": "R0gHxPp52FpF"
      },
      "source": [
        "from google.colab import files\n",
        "uploaded = files.upload()"
      ],
      "execution_count": null,
      "outputs": []
    },
    {
      "cell_type": "code",
      "metadata": {
        "id": "W8aWdkws15Rp"
      },
      "source": [
        "import pandas as pd\n",
        "import numpy as np\n",
        "import matplotlib.pyplot as plt\n",
        "\n",
        "df = pd.read_csv('daily-min-temperatures.csv')\n",
        "print(df.head())"
      ],
      "execution_count": null,
      "outputs": []
    },
    {
      "cell_type": "markdown",
      "metadata": {
        "id": "ScvE8akX3XDL"
      },
      "source": [
        "Veamos estos datos"
      ]
    },
    {
      "cell_type": "code",
      "metadata": {
        "id": "WKp0NE633WiZ"
      },
      "source": [
        "x = np.asanyarray(df[['Temp']])\n",
        "plt.plot(x)"
      ],
      "execution_count": null,
      "outputs": []
    },
    {
      "cell_type": "markdown",
      "metadata": {
        "id": "_meAi75a3jxX"
      },
      "source": [
        "Vemos como se relaciona un dia con el anterior"
      ]
    },
    {
      "cell_type": "code",
      "metadata": {
        "id": "U_M5n7jI3mvW"
      },
      "source": [
        " plt.scatter(x[1:], x[:-1])"
      ],
      "execution_count": null,
      "outputs": []
    },
    {
      "cell_type": "markdown",
      "metadata": {
        "id": "Mjmr41453zIF"
      },
      "source": [
        "Calculemos la correlación\n"
      ]
    },
    {
      "cell_type": "code",
      "metadata": {
        "id": "En7UJhlG4CIb"
      },
      "source": [
        "np.corrcoef(x[1:].T, x[:-1].T)"
      ],
      "execution_count": null,
      "outputs": []
    },
    {
      "cell_type": "markdown",
      "metadata": {
        "id": "Q0mQyzrb4Kks"
      },
      "source": [
        "Ahora bien podemos ver como se relaciona un día con otro solo cambiando el retardo"
      ]
    },
    {
      "cell_type": "code",
      "metadata": {
        "id": "GUj5YMjS4VTb"
      },
      "source": [
        "delay = 2\n",
        "plt.scatter(x[delay:], x[:-delay])\n",
        "np.corrcoef(x[delay:].T, x[:-delay].T)"
      ],
      "execution_count": null,
      "outputs": []
    },
    {
      "cell_type": "markdown",
      "metadata": {
        "id": "W0OkyNE84npo"
      },
      "source": [
        "Podemos graficar estas correlaciones de la siguiente manera"
      ]
    },
    {
      "cell_type": "code",
      "metadata": {
        "id": "viYTf8SG4sJn"
      },
      "source": [
        "pd.plotting.autocorrelation_plot(df.Temp)"
      ],
      "execution_count": null,
      "outputs": []
    },
    {
      "cell_type": "markdown",
      "metadata": {
        "id": "LzRjAvBD5xMj"
      },
      "source": [
        "Vamos a preparar los datos"
      ]
    },
    {
      "cell_type": "code",
      "metadata": {
        "id": "w9--3tmj50C3"
      },
      "source": [
        "df2 = pd.DataFrame(df.Temp)\n",
        "\n",
        "delay = 10\n",
        "for i in range(1, delay+1):\n",
        "  df2 = pd. concat([df2, df.Temp.shift(-i)], axis=1)\n",
        "df2= df2[:-delay]\n",
        "print(df2)"
      ],
      "execution_count": null,
      "outputs": []
    },
    {
      "cell_type": "markdown",
      "metadata": {
        "id": "n8Z--UY17OqY"
      },
      "source": [
        "Seleccionemos nuestros datos"
      ]
    },
    {
      "cell_type": "code",
      "metadata": {
        "id": "bq_pZi4E7RZb"
      },
      "source": [
        "x = np.asanyarray(df2.iloc[:,:-1])\n",
        "y = np.asanyarray(df2.iloc[:,-1])\n",
        "print(x)\n",
        "print(y)"
      ],
      "execution_count": null,
      "outputs": []
    },
    {
      "cell_type": "markdown",
      "metadata": {
        "id": "azu-8aUQ8God"
      },
      "source": [
        "Ahora vamos a construir y probar el modelo"
      ]
    },
    {
      "cell_type": "code",
      "metadata": {
        "id": "Ne5REcuY7_yo"
      },
      "source": [
        "from sklearn.model_selection import train_test_split\n",
        "from sklearn.linear_model import LinearRegression\n",
        "\n",
        "xtrain, xtest, ytrain, ytest = train_test_split(x,y)\n",
        "\n",
        "model = LinearRegression()\n",
        "\n",
        "model.fit(xtrain, ytrain)\n",
        "\n",
        "print('Train: ', model.score(xtrain, ytrain))\n",
        "print('Test: ', model.score(xtest, ytest))"
      ],
      "execution_count": null,
      "outputs": []
    }
  ]
}